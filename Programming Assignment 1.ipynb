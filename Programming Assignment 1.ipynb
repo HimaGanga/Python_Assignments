{
 "cells": [
  {
   "cell_type": "code",
   "execution_count": 1,
   "metadata": {},
   "outputs": [
    {
     "name": "stdout",
     "output_type": "stream",
     "text": [
      "Hello Python\n"
     ]
    }
   ],
   "source": [
    "\"\"\"\n",
    "1.\tWrite a Python program to print \"Hello Python\"?\n",
    "\n",
    "\"\"\"\n",
    "\n",
    "print(\"Hello Python\")"
   ]
  },
  {
   "cell_type": "code",
   "execution_count": 2,
   "metadata": {},
   "outputs": [
    {
     "name": "stdout",
     "output_type": "stream",
     "text": [
      "2.8\n"
     ]
    }
   ],
   "source": [
    "\"\"\"\n",
    "2.\tWrite a Python program to do arithmetical operations addition and division.?\n",
    "\n",
    "\"\"\"\n",
    "a = 2\n",
    "b = 4\n",
    "c = 5\n",
    "\n",
    "operations = a + b / c \n",
    "# division has precedence over addition so b/c will be evaluated first\n",
    "# / will always return float i.e. 4 /5 = 0.8\n",
    "# a + b /c = 2 + 0.8 = 2.8\n",
    "\n",
    "\n",
    "print(operations)"
   ]
  },
  {
   "cell_type": "code",
   "execution_count": 11,
   "metadata": {},
   "outputs": [
    {
     "name": "stdout",
     "output_type": "stream",
     "text": [
      "Enter the first side of a triangle: 2\n",
      "Enter the second side of a triangle: 3\n",
      "Enter the third side of a triangle: 4\n",
      "The area of a traingle is:  2.9047375096555625\n"
     ]
    }
   ],
   "source": [
    "\"\"\"\n",
    "3.\tWrite a Python program to find the area of a triangle?\n",
    "\n",
    "Formula: Area of a traingle = sqrt(semi(semi-a)*(semi-b)*(semi-c))\n",
    "\n",
    "\"\"\"\n",
    "\n",
    "a = float(input(\"Enter the first side of a triangle: \"))\n",
    "b = float(input(\"Enter the second side of a triangle: \"))\n",
    "c = float(input(\"Enter the third side of a triangle: \"))\n",
    "\n",
    "# calculate the semi-perimeter\n",
    "\n",
    "semi = (a + b + c) / 2\n",
    "\n",
    "# calculating the area of a triangle\n",
    "triangle_area = (semi*(semi-a)*(semi-b)*(semi-c)) ** 0.5\n",
    "\n",
    "print(\"The area of a traingle is: \", triangle_area)"
   ]
  },
  {
   "cell_type": "code",
   "execution_count": 12,
   "metadata": {},
   "outputs": [
    {
     "name": "stdout",
     "output_type": "stream",
     "text": [
      "Enter the first number: 2\n",
      "Enter the second number: 3\n",
      "The value of a after swaping: 3\n",
      "The value of b after swaping: 2\n"
     ]
    }
   ],
   "source": [
    "\"\"\"\n",
    "4.\tWrite a Python program to swap two variables?\n",
    "\"\"\"\n",
    "\n",
    "a = int(input(\"Enter the first number: \"))\n",
    "b = int(input(\"Enter the second number: \"))\n",
    "\n",
    "temp_var = a\n",
    "a = b\n",
    "b = temp_var\n",
    "\n",
    "print(\"The value of a after swaping: {}\".format(a))\n",
    "print(\"The value of b after swaping: {}\".format(b))\n"
   ]
  },
  {
   "cell_type": "code",
   "execution_count": 13,
   "metadata": {},
   "outputs": [
    {
     "name": "stdout",
     "output_type": "stream",
     "text": [
      "3\n"
     ]
    }
   ],
   "source": [
    "\"\"\"\n",
    "5.\tWrite a Python program to generate a random number?\n",
    "\"\"\"\n",
    "\n",
    "# Program to generate a random number between 1 and 10\n",
    "# importing the random module\n",
    "\n",
    "import random\n",
    "\n",
    "print(random.randint(1,10))"
   ]
  },
  {
   "cell_type": "code",
   "execution_count": null,
   "metadata": {},
   "outputs": [],
   "source": []
  }
 ],
 "metadata": {
  "kernelspec": {
   "display_name": "Python 3",
   "language": "python",
   "name": "python3"
  },
  "language_info": {
   "codemirror_mode": {
    "name": "ipython",
    "version": 3
   },
   "file_extension": ".py",
   "mimetype": "text/x-python",
   "name": "python",
   "nbconvert_exporter": "python",
   "pygments_lexer": "ipython3",
   "version": "3.8.3"
  }
 },
 "nbformat": 4,
 "nbformat_minor": 4
}
